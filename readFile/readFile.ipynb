from google.colab import drive

# mounting dataset from gdrive
drive.mount('/content/gdrive', force_remount=True)

# dataset path
root_path = 'gdrive/My Drive/Colab Notebooks/Pengolahan_Citra_01/Lab01 Data/'

print("Path root : ", root_path)

import cv2
import numpy as np
import matplotlib.pyplot as plt
